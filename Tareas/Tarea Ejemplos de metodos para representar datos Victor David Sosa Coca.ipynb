{
 "cells": [
  {
   "cell_type": "markdown",
   "metadata": {
    "id": "6EyHSycTi4iC"
   },
   "source": [
    "**Métodos para representar datos**\n",
    "\n",
    "Estos son algunos ejemplos para entender e implementar metodos de representación de datos:"
   ]
  },
  {
   "cell_type": "markdown",
   "metadata": {
    "id": "9ELgYG2njVaY"
   },
   "source": [
    "**Modelos de datos abstractos**\n",
    "\n",
    "Un tipo de dato abstracto es un modelo matemático que define un conjunto de operaciones sobre los datos, sin especificar cómo se implementan."
   ]
  },
  {
   "cell_type": "markdown",
   "metadata": {
    "id": "1_mcXOJjMNoX"
   },
   "source": [
    "Escenario: Apilar platos.\n",
    "\n",
    "Tarea: Crear un programa que represente platos apilados.\n",
    "\n",
    "Append: Añadir platos. Pop: Quitar los platos"
   ]
  },
  {
   "cell_type": "code",
   "execution_count": null,
   "metadata": {
    "colab": {
     "base_uri": "https://localhost:8080/"
    },
    "executionInfo": {
     "elapsed": 43,
     "status": "ok",
     "timestamp": 1756225860150,
     "user": {
      "displayName": "Víctor David Sosa Coca",
      "userId": "14519168493969280601"
     },
     "user_tz": 240
    },
    "id": "8ojvRs6rjakY",
    "outputId": "fa90872b-d1af-4cec-f0af-997737a0ffc5"
   },
   "outputs": [
    {
     "name": "stdout",
     "output_type": "stream",
     "text": [
      "Platos apilados: ['Plato 1', 'Plato 2', 'Plato 3']\n",
      "Platos apilados: ['Plato 1', 'Plato 2']\n"
     ]
    }
   ],
   "source": [
    "platos = [] # Pila de platos\n",
    "\n",
    "# Ejemplo\n",
    "platos.append(\"Plato 1\")\n",
    "platos.append(\"Plato 2\")\n",
    "platos.append(\"Plato 3\")\n",
    "\n",
    "print(\"Platos apilados:\", platos)\n",
    "\n",
    "platos.pop() # Saca el plato 3\n",
    "\n",
    "print(\"Platos apilados:\", platos)"
   ]
  },
  {
   "cell_type": "markdown",
   "metadata": {
    "id": "NF6nsDGdOEVx"
   },
   "source": [
    "Escenario: Fila de un supermecado.\n",
    "\n",
    "Tarea: Crear un programa que represente la fila de un supermecado.\n",
    "\n",
    "Append: Llega un nuevo cliente. Popleft: Sale un cliente (el primero en la fila)"
   ]
  },
  {
   "cell_type": "code",
   "execution_count": null,
   "metadata": {
    "colab": {
     "base_uri": "https://localhost:8080/"
    },
    "executionInfo": {
     "elapsed": 30,
     "status": "ok",
     "timestamp": 1756226296789,
     "user": {
      "displayName": "Víctor David Sosa Coca",
      "userId": "14519168493969280601"
     },
     "user_tz": 240
    },
    "id": "tJfHfUC_OeGT",
    "outputId": "58cbde8f-87eb-4ad8-d740-b8b66eafc70d"
   },
   "outputs": [
    {
     "name": "stdout",
     "output_type": "stream",
     "text": [
      "Fila actual: deque(['Cliente 1', 'Cliente 2', 'Cliente 3', 'Cliente 4'])\n",
      "Fila actual: deque(['Cliente 3', 'Cliente 4'])\n"
     ]
    }
   ],
   "source": [
    "from collections import deque\n",
    "\n",
    "# Fila en un supermercado\n",
    "fila = deque()\n",
    "\n",
    "# Ejemplo\n",
    "fila.append(\"Cliente 1\")\n",
    "fila.append(\"Cliente 2\")\n",
    "fila.append(\"Cliente 3\")\n",
    "fila.append(\"Cliente 4\")\n",
    "\n",
    "print(\"Fila actual:\", fila)\n",
    "\n",
    "fila.popleft()  # Sale el cliente 1\n",
    "fila.popleft()  # Sale el cliente 2\n",
    "\n",
    "print(\"Fila actual:\", fila)"
   ]
  },
  {
   "cell_type": "markdown",
   "metadata": {
    "id": "3L7mv3BPzI5Z"
   },
   "source": [
    "**Modelos de datos estáticos**\n",
    "\n",
    "Son aquellas cuya cantidad de memoria se define en tiempo de compilación y no cambia durante la ejecución."
   ]
  },
  {
   "cell_type": "markdown",
   "metadata": {
    "id": "EmeSED6ddQZX"
   },
   "source": [
    "Escenario: Representar una agenda de contactos.\n",
    "\n",
    "Tarea: Crear un programa usando un diccionario para almacenar información de una agenda de contactos. Se le pedirá al usuario:\n",
    "\n",
    "Añadir nuevo contacto: Incluir nombre, número, y país. Buscar contacto: Por nombre, número o país. Mostrar contactos: De manera que tenga un formato."
   ]
  },
  {
   "cell_type": "code",
   "execution_count": null,
   "metadata": {
    "colab": {
     "base_uri": "https://localhost:8080/"
    },
    "executionInfo": {
     "elapsed": 35,
     "status": "ok",
     "timestamp": 1756229748667,
     "user": {
      "displayName": "Víctor David Sosa Coca",
      "userId": "14519168493969280601"
     },
     "user_tz": 240
    },
    "id": "moD2J6lczBGF",
    "outputId": "6713cc94-dba6-4174-c449-e75c99fb3ce0"
   },
   "outputs": [
    {
     "name": "stdout",
     "output_type": "stream",
     "text": [
      "[{'nombre': 'Carlos', 'país': 'Colombia'}]\n",
      "Número: 76130495, Nombre: Carlos, País: Colombia\n",
      "Número: 66743487, Nombre: María, País: Bolivia\n"
     ]
    }
   ],
   "source": [
    "contactos = {}  # Usando un diccionario\n",
    "\n",
    "def añadir_contacto(nombre, número, país):\n",
    "  contactos[número] = {'nombre': nombre, 'país': país}\n",
    "\n",
    "def buscar_contacto(búsqueda):\n",
    "  resultados = []\n",
    "  for número, dato_contacto in contactos.items():\n",
    "    if búsqueda in dato_contacto['nombre'] or búsqueda in dato_contacto['país'] or búsqueda == número:\n",
    "      resultados.append(dato_contacto)\n",
    "  return resultados\n",
    "\n",
    "def mostrar_contactos():\n",
    "  for número, dato_contacto in contactos.items():\n",
    "    print(f\"Número: {número}, Nombre: {dato_contacto['nombre']}, País: {dato_contacto['país']}\")\n",
    "\n",
    "# Ejemplo\n",
    "añadir_contacto(\"Carlos\", \"76130495\", \"Colombia\")\n",
    "añadir_contacto(\"María\", \"66743487\", \"Bolivia\")\n",
    "\n",
    "buscar_resultados = buscar_contacto(\"Col\")\n",
    "print(buscar_resultados)\n",
    "\n",
    "mostrar_contactos()"
   ]
  },
  {
   "cell_type": "markdown",
   "metadata": {
    "id": "aDG41fJs1lb1"
   },
   "source": [
    "**Modelos de datos dinámicos**\n",
    "\n",
    "Estructuras que pueden crecer o reducirse durante la ejecución."
   ]
  },
  {
   "cell_type": "markdown",
   "metadata": {
    "id": "LFHBahl7dJ2w"
   },
   "source": [
    "Escenario: Representación de un carrito de compras.\n",
    "\n",
    "Tarea: Crear un programa que use una lista como estructura dinámica para representar un carrito de compras. El programa debe pedirle al usuario:\n",
    "\n",
    "Agregar producto: Agrega un producto al carrito.\n",
    "Retirar producto: Retira un producto del carrito.\n",
    "Ver productos: Muestra los productos que estén dentro del carrito."
   ]
  },
  {
   "cell_type": "code",
   "execution_count": 5,
   "metadata": {
    "colab": {
     "base_uri": "https://localhost:8080/"
    },
    "executionInfo": {
     "elapsed": 56,
     "status": "ok",
     "timestamp": 1756487597790,
     "user": {
      "displayName": "Victor Sosa",
      "userId": "05859566419372833278"
     },
     "user_tz": 240
    },
    "id": "hiTy3Q9K1xLd",
    "outputId": "d138133c-60d9-4b7f-d261-a44c50a3b4c1"
   },
   "outputs": [
    {
     "name": "stdout",
     "output_type": "stream",
     "text": [
      "Carrito inicializado\n",
      "Se añadió al carrito:  Leche\n",
      "Se añadió al carrito:  Manzanas\n",
      "Se añadió al carrito:  Queso\n",
      "El carrito contiene:  ['Leche', 'Manzanas', 'Queso']\n",
      "Se retiró del carrito:  Manzanas\n",
      "El carrito contiene:  ['Leche', 'Queso']\n"
     ]
    }
   ],
   "source": [
    "class carrito: # Carrito de compras\n",
    "    def __init__(self):\n",
    "        self.carro = []\n",
    "        print(\"Carrito inicializado\")\n",
    "\n",
    "    def agregar(self, producto):\n",
    "        self.carro.append(producto)\n",
    "        print(\"Se añadió al carrito: \",producto)\n",
    "\n",
    "    def retirar(self, producto):\n",
    "        self.carro.remove(producto)\n",
    "        print(\"Se retiró del carrito: \",producto)\n",
    "\n",
    "    def ver_carrito(self):\n",
    "        print(\"El carrito contiene: \", self.carro.copy())\n",
    "\n",
    "# Ejemplo\n",
    "carrito = carrito()\n",
    "carrito.agregar(\"Leche\")\n",
    "carrito.agregar(\"Manzanas\")\n",
    "carrito.agregar(\"Queso\")\n",
    "\n",
    "carrito.ver_carrito()\n",
    "\n",
    "carrito.retirar(\"Manzanas\")\n",
    "\n",
    "carrito.ver_carrito()"
   ]
  },
  {
   "cell_type": "markdown",
   "metadata": {
    "id": "vHxeFYF314vP"
   },
   "source": [
    "**Modelos de datos persistentes**\n",
    "\n",
    "Estructuras que preservan versiones anteriores cuando se modifican."
   ]
  },
  {
   "cell_type": "markdown",
   "metadata": {
    "id": "JqWZ_wU5gzG3"
   },
   "source": [
    "Escenario: Historial de navegación web sencillo.\n",
    "\n",
    "Tarea: Crear un programa que guarde el historial de navegación usando un archivo de texto. El programa le pide usuario:\n",
    "\n",
    "Cargar historial: Carga el historial desde un archivo de texto.\n",
    "Guardar historial: Guarda el historial completo.\n",
    "Agregar sitio web: Se agrega un sitio web al historial.\n",
    "Eliminar sitio web: Se elimina del historial el sitio web.\n",
    "Mostrar historial: Muestra el historial actual.\n"
   ]
  },
  {
   "cell_type": "code",
   "execution_count": null,
   "metadata": {
    "colab": {
     "base_uri": "https://localhost:8080/"
    },
    "executionInfo": {
     "elapsed": 22,
     "status": "ok",
     "timestamp": 1756234224284,
     "user": {
      "displayName": "Víctor David Sosa Coca",
      "userId": "14519168493969280601"
     },
     "user_tz": 240
    },
    "id": "CPnGfI7b18v4",
    "outputId": "48a21f78-7d25-46cd-ad14-1e87e78c8878"
   },
   "outputs": [
    {
     "name": "stdout",
     "output_type": "stream",
     "text": [
      "Sitio 'google.com' agregado al historial.\n",
      "Sitio 'youtube.com' agregado al historial.\n",
      "Sitio 'github.com' agregado al historial.\n",
      "\n",
      "Historial de navegación:\n",
      "1. google.com\n",
      "2. youtube.com\n",
      "3. github.com\n",
      "Sitio 'youtube.com' eliminado del historial.\n",
      "\n",
      "Historial de navegación:\n",
      "1. google.com\n",
      "2. github.com\n"
     ]
    }
   ],
   "source": [
    "# Cargar historial desde archivo\n",
    "def cargar_historial(filename=\"historial.txt\"):\n",
    "    historial = []\n",
    "    try:\n",
    "        with open(filename, \"r\") as file:\n",
    "            for linea in file:\n",
    "                historial.append(linea.strip())\n",
    "    except FileNotFoundError:\n",
    "        pass  # Ignorar si no existe el archivo\n",
    "    return historial\n",
    "\n",
    "# Guardar historial en archivo\n",
    "def guardar_historial(historial, filename=\"historial.txt\"):\n",
    "    with open(filename, \"w\") as file:\n",
    "        for url in historial:\n",
    "            file.write(url + \"\\n\")\n",
    "\n",
    "# Agregar sitio web al historial\n",
    "def agregar_sitio(historial, url):\n",
    "    historial.append(url)\n",
    "    print(f\"Sitio '{url}' agregado al historial.\")\n",
    "\n",
    "# Eliminar sitio web del historial\n",
    "def eliminar_sitio(historial, url):\n",
    "    if url in historial:\n",
    "        historial.remove(url)\n",
    "        print(f\"Sitio '{url}' eliminado del historial.\")\n",
    "    else:\n",
    "        print(f\"Sitio '{url}' no se encuentra en el historial.\")\n",
    "\n",
    "# Ver historial completo\n",
    "def ver_historial(historial):\n",
    "    if historial:\n",
    "        print(\"\\nHistorial de navegación:\")\n",
    "        for index, url in enumerate(historial, 1):\n",
    "            print(f\"{index}. {url}\")\n",
    "    else:\n",
    "        print(\"El historial está vacío.\")\n",
    "\n",
    "# Ejemplo de uso\n",
    "historial = cargar_historial()\n",
    "\n",
    "agregar_sitio(historial, \"google.com\")\n",
    "agregar_sitio(historial, \"youtube.com\")\n",
    "agregar_sitio(historial, \"github.com\")\n",
    "\n",
    "ver_historial(historial)\n",
    "\n",
    "eliminar_sitio(historial, \"youtube.com\")\n",
    "\n",
    "ver_historial(historial)\n",
    "\n",
    "guardar_historial(historial)"
   ]
  },
  {
   "cell_type": "markdown",
   "metadata": {
    "id": "hmJDFxO12BN0"
   },
   "source": [
    "**Modelos de datos simulados**\n",
    "\n",
    "Son representaciones de estructuras complejas usando otras más básicas."
   ]
  },
  {
   "cell_type": "markdown",
   "metadata": {
    "id": "UR97siWevAl2"
   },
   "source": [
    "Básicamente, todos los ejemplos anteriores se consideran modelos de datos simulados, porque se usan funciones básicas para representar comportamientos más complejos dónde incluso intervienen algunos otros factores."
   ]
  },
  {
   "cell_type": "markdown",
   "metadata": {
    "id": "xsbJw1NB08rk"
   },
   "source": [
    "Ejemplo de un modelo de dato simulado:\n",
    "\n",
    "Escenario: Representar a una persona.\n",
    "\n",
    "Tarea: Crear un programa que simule de manera básica a una persona."
   ]
  },
  {
   "cell_type": "code",
   "execution_count": null,
   "metadata": {
    "colab": {
     "base_uri": "https://localhost:8080/"
    },
    "executionInfo": {
     "elapsed": 36,
     "status": "ok",
     "timestamp": 1756489024239,
     "user": {
      "displayName": "Victor Sosa",
      "userId": "05859566419372833278"
     },
     "user_tz": 240
    },
    "id": "-mg2UPlh1fLy",
    "outputId": "cb49442c-a4ff-4432-cac3-e3b66db74675"
   },
   "outputs": [
    {
     "name": "stdout",
     "output_type": "stream",
     "text": [
      "Carlos\n",
      "1.5\n",
      "54\n",
      "Hombre\n",
      "Carlos comenzó a caminar\n",
      "Carlos se ha detenido\n"
     ]
    }
   ],
   "source": [
    "class persona:\n",
    "    def __init__(self, nombre, altura, peso, genero):\n",
    "        self.__nombre = nombre\n",
    "        self.__altura = altura\n",
    "        self.__peso = peso\n",
    "        self.__genero = genero\n",
    "\n",
    "    @property\n",
    "    def nombre(self):\n",
    "        return self.__nombre\n",
    "\n",
    "    @property\n",
    "    def altura(self):\n",
    "        return self.__altura\n",
    "\n",
    "    @property\n",
    "    def peso(self):\n",
    "        return self.__peso\n",
    "\n",
    "    @property\n",
    "    def genero(self):\n",
    "        return self.__genero\n",
    "\n",
    "    def caminar(self):\n",
    "        print(f\"{self.__nombre} comenzó a caminar\")\n",
    "\n",
    "    def detener(self):\n",
    "        print(f\"{self.__nombre} se ha detenido\")\n",
    "\n",
    "\n",
    "# Ejemplo de uso\n",
    "Carlos = persona(\"Carlos\", 1.5, 54, \"Hombre\")\n",
    "\n",
    "print(Carlos.nombre)\n",
    "print(Carlos.altura)\n",
    "print(Carlos.peso)\n",
    "print(Carlos.genero)\n",
    "\n",
    "Carlos.caminar()\n",
    "Carlos.detener()"
   ]
  }
 ],
 "metadata": {
  "colab": {
   "provenance": [
    {
     "file_id": "1K-pz-j6sycW6iBSgXTQzBGOncJb9oi08",
     "timestamp": 1756130235935
    }
   ]
  },
  "kernelspec": {
   "display_name": "Python 3",
   "name": "python3"
  },
  "language_info": {
   "name": "python"
  }
 },
 "nbformat": 4,
 "nbformat_minor": 0
}
